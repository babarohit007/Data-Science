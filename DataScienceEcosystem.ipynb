{
 "cells": [
  {
   "cell_type": "markdown",
   "id": "44e21e2d-7a1b-4a39-88dc-6c6bdba9e8c3",
   "metadata": {},
   "source": [
    "#  Data Science Tools and Ecosystem"
   ]
  },
  {
   "cell_type": "markdown",
   "id": "60eb81a6-dfaa-4f48-a351-ce737d8f3faf",
   "metadata": {},
   "source": [
    "## In this notebook, Data Science Tools and Ecosystem are summarized."
   ]
  },
  {
   "cell_type": "markdown",
   "id": "5f22c481-0343-4d46-ac48-77c19e2837c3",
   "metadata": {},
   "source": [
    "**Objectives**\n",
    "* List popular languages for Data Science.\n",
    "* Common Libraries used in Data Science.\n",
    "* Different platform available for Development."
   ]
  },
  {
   "cell_type": "markdown",
   "id": "4199226b-bb5c-4b46-a8e3-05082b90454e",
   "metadata": {},
   "source": [
    "### Some of the popular languages that Data Scientists use are:"
   ]
  },
  {
   "cell_type": "markdown",
   "id": "502a986e-b5af-4df7-9ddf-0f888a859671",
   "metadata": {},
   "source": [
    "1. Python\n",
    "2. R Language\n",
    "3. SQL\n",
    "4. Apache Spark"
   ]
  },
  {
   "cell_type": "markdown",
   "id": "8002dbf5-8ac7-4381-b47d-2432042397a9",
   "metadata": {},
   "source": [
    "### Some of the commonly used libraries used by Data Scientists include:"
   ]
  },
  {
   "cell_type": "markdown",
   "id": "76e61547-ce68-4c58-b6f5-ef040b72398d",
   "metadata": {},
   "source": [
    "1. Pandas\n",
    "2. NumPy\n",
    "3. SciKit\n",
    "4. Matplotlib"
   ]
  },
  {
   "cell_type": "markdown",
   "id": "22e791d9-1036-4982-9714-604bdaafbe73",
   "metadata": {},
   "source": [
    "| Data Science Tools |\n",
    "| ------------------ |\n",
    "| Jupyter Notebook |\n",
    "| Jupyter Lab |\n",
    "| VS Code |\n",
    "| Anaconda |"
   ]
  },
  {
   "cell_type": "markdown",
   "id": "791868e7-46bf-4bc1-a9bf-663f571cfd1c",
   "metadata": {},
   "source": [
    "### Below are a few examples of evaluating arithmetic expressions in Python"
   ]
  },
  {
   "cell_type": "code",
   "execution_count": 1,
   "id": "cd3e5f4b-dcc3-493c-9ac1-55af685ca65d",
   "metadata": {},
   "outputs": [
    {
     "data": {
      "text/plain": [
       "17"
      ]
     },
     "execution_count": 1,
     "metadata": {},
     "output_type": "execute_result"
    }
   ],
   "source": [
    "# This a simple arithmetic expression to mutiply then add integers\n",
    "(3 * 4) + 5"
   ]
  },
  {
   "cell_type": "code",
   "execution_count": 2,
   "id": "c0130fba-037b-4acf-acfc-cbcd056d032a",
   "metadata": {},
   "outputs": [
    {
     "data": {
      "text/plain": [
       "3.3333333333333335"
      ]
     },
     "execution_count": 2,
     "metadata": {},
     "output_type": "execute_result"
    }
   ],
   "source": [
    "# This will convert 200 minutes to hours by diving by 60\n",
    "200 / 60"
   ]
  },
  {
   "cell_type": "markdown",
   "id": "f2fe3beb-a957-4a58-98af-9123b688568c",
   "metadata": {},
   "source": [
    "## Author \n",
    "\n",
    "Rohit Gupta"
   ]
  }
 ],
 "metadata": {
  "kernelspec": {
   "display_name": "Python 3 (ipykernel)",
   "language": "python",
   "name": "python3"
  },
  "language_info": {
   "codemirror_mode": {
    "name": "ipython",
    "version": 3
   },
   "file_extension": ".py",
   "mimetype": "text/x-python",
   "name": "python",
   "nbconvert_exporter": "python",
   "pygments_lexer": "ipython3",
   "version": "3.11.5"
  }
 },
 "nbformat": 4,
 "nbformat_minor": 5
}
